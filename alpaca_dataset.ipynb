{
 "cells": [
  {
   "cell_type": "code",
   "execution_count": 4,
   "metadata": {},
   "outputs": [],
   "source": [
    "import jsonlines\n",
    "import itertools\n",
    "from pprint import pprint\n",
    "\n",
    "from datasets import load_dataset"
   ]
  },
  {
   "cell_type": "code",
   "execution_count": 2,
   "metadata": {},
   "outputs": [
    {
     "data": {
      "application/vnd.jupyter.widget-view+json": {
       "model_id": "19558108f4734186abf6bbf786304949",
       "version_major": 2,
       "version_minor": 0
      },
      "text/plain": [
       "Downloading readme:   0%|          | 0.00/7.47k [00:00<?, ?B/s]"
      ]
     },
     "metadata": {},
     "output_type": "display_data"
    }
   ],
   "source": [
    "instruction_tuned_dataset = load_dataset(\n",
    "    \"tatsu-lab/alpaca\", split=\"train\", streaming=True\n",
    ")"
   ]
  },
  {
   "cell_type": "code",
   "execution_count": 5,
   "metadata": {},
   "outputs": [
    {
     "name": "stdout",
     "output_type": "stream",
     "text": [
      "Instruction-tuned dataset:\n",
      "{'input': '',\n",
      " 'instruction': 'Give three tips for staying healthy.',\n",
      " 'output': '1.Eat a balanced diet and make sure to include plenty of fruits '\n",
      "           'and vegetables. \\n'\n",
      "           '2. Exercise regularly to keep your body active and strong. \\n'\n",
      "           '3. Get enough sleep and maintain a consistent sleep schedule.',\n",
      " 'text': 'Below is an instruction that describes a task. Write a response that '\n",
      "         'appropriately completes the request.\\n'\n",
      "         '\\n'\n",
      "         '### Instruction:\\n'\n",
      "         'Give three tips for staying healthy.\\n'\n",
      "         '\\n'\n",
      "         '### Response:\\n'\n",
      "         '1.Eat a balanced diet and make sure to include plenty of fruits and '\n",
      "         'vegetables. \\n'\n",
      "         '2. Exercise regularly to keep your body active and strong. \\n'\n",
      "         '3. Get enough sleep and maintain a consistent sleep schedule.'}\n"
     ]
    }
   ],
   "source": [
    "m = 10\n",
    "print(\"Instruction-tuned dataset:\")\n",
    "top_m = list(itertools.islice(instruction_tuned_dataset, m))\n",
    "for j in top_m:\n",
    "  pprint(j)\n",
    "  break "
   ]
  },
  {
   "cell_type": "code",
   "execution_count": null,
   "metadata": {},
   "outputs": [],
   "source": []
  },
  {
   "cell_type": "markdown",
   "metadata": {},
   "source": [
    "Prompt Templates"
   ]
  },
  {
   "cell_type": "code",
   "execution_count": 6,
   "metadata": {},
   "outputs": [],
   "source": [
    "prompt_template_with_input = \"\"\"Below is an instruction that describes a task, paired with an input \n",
    "that provides further context. Write a response that appropriately completes the request.\n",
    "\n",
    "### Instruction:\n",
    "{instruction}\n",
    "\n",
    "### Input:\n",
    "{input}\n",
    "\n",
    "### Response:\"\"\"\n",
    "\n",
    "prompt_template_without_input = \"\"\"Below is an instruction that describes a task. \n",
    "Write a response that appropriately completes the request.\n",
    "\n",
    "### Instruction:\n",
    "{instruction}\n",
    "\n",
    "### Response:\"\"\""
   ]
  },
  {
   "cell_type": "code",
   "execution_count": 13,
   "metadata": {},
   "outputs": [],
   "source": [
    "def process_data(data_dict: dict) -> dict:\n",
    "    if not data_dict[\"input\"]:\n",
    "        processed_prompt = prompt_template_without_input.format(\n",
    "            instruction=data_dict[\"instruction\"]\n",
    "        )\n",
    "    else:\n",
    "        processed_prompt = prompt_template_with_input.format(\n",
    "            instruction=data_dict[\"instruction\"], input=data_dict[\"input\"]\n",
    "        )\n",
    "\n",
    "    return {\"input\": processed_prompt, \"output\": data_dict[\"output\"]}"
   ]
  },
  {
   "cell_type": "code",
   "execution_count": 16,
   "metadata": {},
   "outputs": [
    {
     "name": "stdout",
     "output_type": "stream",
     "text": [
      "{'input': 'Below is an instruction that describes a task. \\n'\n",
      "          'Write a response that appropriately completes the request.\\n'\n",
      "          '\\n'\n",
      "          '### Instruction:\\n'\n",
      "          'Give three tips for staying healthy.\\n'\n",
      "          '\\n'\n",
      "          '### Response:',\n",
      " 'output': '1.Eat a balanced diet and make sure to include plenty of fruits '\n",
      "           'and vegetables. \\n'\n",
      "           '2. Exercise regularly to keep your body active and strong. \\n'\n",
      "           '3. Get enough sleep and maintain a consistent sleep schedule.'}\n"
     ]
    }
   ],
   "source": [
    "processed_data = list(map(process_data, top_m))\n",
    "\n",
    "pprint(processed_data[0])"
   ]
  },
  {
   "cell_type": "code",
   "execution_count": null,
   "metadata": {},
   "outputs": [],
   "source": []
  },
  {
   "cell_type": "markdown",
   "metadata": {},
   "source": [
    "Save data to json"
   ]
  },
  {
   "cell_type": "code",
   "execution_count": 17,
   "metadata": {},
   "outputs": [],
   "source": [
    "with jsonlines.open(f'json/alpaca_processed.jsonl', 'w') as writer:\n",
    "    writer.write_all(processed_data)"
   ]
  },
  {
   "cell_type": "code",
   "execution_count": null,
   "metadata": {},
   "outputs": [],
   "source": []
  },
  {
   "cell_type": "code",
   "execution_count": 18,
   "metadata": {},
   "outputs": [
    {
     "data": {
      "application/vnd.jupyter.widget-view+json": {
       "model_id": "a07c69b7d85141e5b94144986b9fc9b8",
       "version_major": 2,
       "version_minor": 0
      },
      "text/plain": [
       "Uploading the dataset shards:   0%|          | 0/1 [00:00<?, ?it/s]"
      ]
     },
     "metadata": {},
     "output_type": "display_data"
    },
    {
     "data": {
      "application/vnd.jupyter.widget-view+json": {
       "model_id": "af76e83d5a5d455d8f7a8462f0aa5b89",
       "version_major": 2,
       "version_minor": 0
      },
      "text/plain": [
       "Creating parquet from Arrow format:   0%|          | 0/1 [00:00<?, ?ba/s]"
      ]
     },
     "metadata": {},
     "output_type": "display_data"
    }
   ],
   "source": [
    "import pandas as pd\n",
    "from datasets import Dataset\n",
    "\n",
    "finetuning_dataset = Dataset.from_pandas(pd.DataFrame(data=processed_data))\n",
    "finetuning_dataset.push_to_hub(\"alliwene/test-alpaca\")"
   ]
  },
  {
   "cell_type": "code",
   "execution_count": null,
   "metadata": {},
   "outputs": [],
   "source": []
  },
  {
   "cell_type": "code",
   "execution_count": 26,
   "metadata": {},
   "outputs": [
    {
     "data": {
      "text/plain": [
       "Dataset({\n",
       "    features: ['input', 'output'],\n",
       "    num_rows: 10\n",
       "})"
      ]
     },
     "execution_count": 26,
     "metadata": {},
     "output_type": "execute_result"
    }
   ],
   "source": [
    "test = load_dataset(\"alliwene/test-alpaca\", split=\"train\")\n",
    "test "
   ]
  },
  {
   "cell_type": "code",
   "execution_count": 23,
   "metadata": {},
   "outputs": [
    {
     "name": "stdout",
     "output_type": "stream",
     "text": [
      "{'input': 'Below is an instruction that describes a task. \\n'\n",
      "          'Write a response that appropriately completes the request.\\n'\n",
      "          '\\n'\n",
      "          '### Instruction:\\n'\n",
      "          'Write a short story in third person narration about a protagonist '\n",
      "          'who has to make an important career decision.\\n'\n",
      "          '\\n'\n",
      "          '### Response:',\n",
      " 'output': 'John was at a crossroads in his life. He had just graduated '\n",
      "           'college and was now facing the big decision of what career to '\n",
      "           'pursue. After much deliberation, he decided that he wanted to be '\n",
      "           'an accountant and help the financially disadvantaged. He had '\n",
      "           'always been good with numbers and enjoyed seeing the tangible '\n",
      "           'results of his work. \\n'\n",
      "           '\\n'\n",
      "           'John enrolled in accounting courses and initially found it quite '\n",
      "           'challenging. He had to learn multiple systems and regulations '\n",
      "           'quickly, but he worked hard and eventually excelled in his '\n",
      "           'studies. After a few years, John started working at an accounting '\n",
      "           'firm in his city. He was eager to put his knowledge of taxes and '\n",
      "           'accounting to use in a real-world setting.\\n'\n",
      "           '\\n'\n",
      "           'John loved his job, as it let him express his creativity in '\n",
      "           'finding strategies to save his clients money. After a few years at '\n",
      "           'the firm, he became a senior accountant and was asked to manage '\n",
      "           'bigger and more challenging cases. He was now a respected figure '\n",
      "           'in the financial industry, but he still remembers when he was just '\n",
      "           'a recent college graduate, unsure of the direction in which his '\n",
      "           'life would take him.'}\n"
     ]
    }
   ],
   "source": [
    "pprint(test[7])"
   ]
  },
  {
   "cell_type": "code",
   "execution_count": null,
   "metadata": {},
   "outputs": [],
   "source": []
  }
 ],
 "metadata": {
  "kernelspec": {
   "display_name": "openai",
   "language": "python",
   "name": "python3"
  },
  "language_info": {
   "codemirror_mode": {
    "name": "ipython",
    "version": 3
   },
   "file_extension": ".py",
   "mimetype": "text/x-python",
   "name": "python",
   "nbconvert_exporter": "python",
   "pygments_lexer": "ipython3",
   "version": "3.11.4"
  }
 },
 "nbformat": 4,
 "nbformat_minor": 2
}
